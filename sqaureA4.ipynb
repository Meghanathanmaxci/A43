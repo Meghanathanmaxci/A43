{
 "cells": [
  {
   "cell_type": "markdown",
   "id": "8c260241",
   "metadata": {},
   "source": [
    "# WPP to square the elements of list using map() function.\n",
    "# sample list = [4,5,2,9]\n",
    "# output  =  [16, 25, 4, 81]\n"
   ]
  },
  {
   "cell_type": "code",
   "execution_count": 12,
   "id": "e3ae713d",
   "metadata": {},
   "outputs": [
    {
     "name": "stdout",
     "output_type": "stream",
     "text": [
      "[16, 25, 4, 81]\n"
     ]
    }
   ],
   "source": [
    "print(list(map(lambda x : x**2,[4,5,2,9])))"
   ]
  },
  {
   "cell_type": "code",
   "execution_count": null,
   "id": "8851931f",
   "metadata": {},
   "outputs": [],
   "source": []
  }
 ],
 "metadata": {
  "kernelspec": {
   "display_name": "Python 3 (ipykernel)",
   "language": "python",
   "name": "python3"
  },
  "language_info": {
   "codemirror_mode": {
    "name": "ipython",
    "version": 3
   },
   "file_extension": ".py",
   "mimetype": "text/x-python",
   "name": "python",
   "nbconvert_exporter": "python",
   "pygments_lexer": "ipython3",
   "version": "3.10.0"
  }
 },
 "nbformat": 4,
 "nbformat_minor": 5
}
